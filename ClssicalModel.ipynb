{
 "cells": [
  {
   "cell_type": "code",
   "execution_count": null,
   "metadata": {
    "collapsed": true,
    "pycharm": {
     "name": "#%%\n"
    }
   },
   "outputs": [],
   "source": []
  },
  {
   "cell_type": "code",
   "execution_count": 1,
   "outputs": [
    {
     "name": "stdout",
     "output_type": "stream",
     "text": [
      "2.9.1\n"
     ]
    }
   ],
   "source": [
    "import os\n",
    "\n",
    "import tensorflow as tf\n",
    "from tensorflow import keras\n",
    "\n",
    "print(tf.version.VERSION)"
   ],
   "metadata": {
    "collapsed": false,
    "pycharm": {
     "name": "#%%\n"
    }
   }
  },
  {
   "cell_type": "code",
   "execution_count": 2,
   "outputs": [],
   "source": [
    "(train_images, train_labels), (test_images, test_labels) = tf.keras.datasets.mnist.load_data()\n",
    "\n",
    "train_labels = train_labels[:600]\n",
    "test_labels = test_labels[:100]\n",
    "\n",
    "train_images = train_images[:600].reshape(-1, 28 * 28) / 255.0\n",
    "test_images = test_images[:100].reshape(-1, 28 * 28) / 255.0"
   ],
   "metadata": {
    "collapsed": false,
    "pycharm": {
     "name": "#%%\n"
    }
   }
  },
  {
   "cell_type": "code",
   "execution_count": 32,
   "outputs": [
    {
     "name": "stdout",
     "output_type": "stream",
     "text": [
      "Model: \"sequential_9\"\n",
      "_________________________________________________________________\n",
      " Layer (type)                Output Shape              Param #   \n",
      "=================================================================\n",
      " dense_42 (Dense)            (None, 128)               100480    \n",
      "                                                                 \n",
      " dense_43 (Dense)            (None, 64)                8256      \n",
      "                                                                 \n",
      " dense_44 (Dense)            (None, 32)                2080      \n",
      "                                                                 \n",
      " dense_45 (Dense)            (None, 16)                528       \n",
      "                                                                 \n",
      " dropout_6 (Dropout)         (None, 16)                0         \n",
      "                                                                 \n",
      " dense_46 (Dense)            (None, 10)                170       \n",
      "                                                                 \n",
      "=================================================================\n",
      "Total params: 111,514\n",
      "Trainable params: 111,514\n",
      "Non-trainable params: 0\n",
      "_________________________________________________________________\n"
     ]
    }
   ],
   "source": [
    "# Define a simple sequential model\n",
    "def create_model():\n",
    "  model = tf.keras.Sequential([\n",
    "    keras.layers.Dense(128, activation='elu', input_shape=(784,)),\n",
    "    keras.layers.Dense(64, activation =\"elu\"),\n",
    "    keras.layers.Dense(32, activation =\"elu\"),\n",
    "    keras.layers.Dense(16, activation =\"elu\"),\n",
    "    keras.layers.Dropout(0.2),\n",
    "    keras.layers.Dense(10)\n",
    "  ])\n",
    "\n",
    "  model.compile(optimizer='adam',\n",
    "                loss=tf.keras.losses.SparseCategoricalCrossentropy(from_logits=True),\n",
    "                metrics=['accuracy'])\n",
    "\n",
    "  return model\n",
    "\n",
    "# Create a basic model instance\n",
    "model = create_model()\n",
    "\n",
    "# Display the model's architecture\n",
    "model.summary()"
   ],
   "metadata": {
    "collapsed": false,
    "pycharm": {
     "name": "#%%\n"
    }
   }
  },
  {
   "cell_type": "code",
   "execution_count": 33,
   "outputs": [
    {
     "name": "stdout",
     "output_type": "stream",
     "text": [
      "Epoch 1/150\n",
      "10/10 [==============================] - 0s 16ms/step - loss: 1.9499 - accuracy: 0.3783 - val_loss: 1.5865 - val_accuracy: 0.5900\n",
      "Epoch 2/150\n",
      "10/10 [==============================] - 0s 4ms/step - loss: 1.3430 - accuracy: 0.6167 - val_loss: 1.2199 - val_accuracy: 0.6900\n",
      "Epoch 3/150\n",
      "10/10 [==============================] - 0s 4ms/step - loss: 0.9799 - accuracy: 0.7633 - val_loss: 0.9704 - val_accuracy: 0.7500\n",
      "Epoch 4/150\n",
      "10/10 [==============================] - 0s 5ms/step - loss: 0.7857 - accuracy: 0.8017 - val_loss: 0.8267 - val_accuracy: 0.7700\n",
      "Epoch 5/150\n",
      "10/10 [==============================] - 0s 5ms/step - loss: 0.6302 - accuracy: 0.8450 - val_loss: 0.7579 - val_accuracy: 0.7800\n",
      "Epoch 6/150\n",
      "10/10 [==============================] - 0s 4ms/step - loss: 0.5102 - accuracy: 0.8717 - val_loss: 0.6628 - val_accuracy: 0.8200\n",
      "Epoch 7/150\n",
      "10/10 [==============================] - 0s 4ms/step - loss: 0.4091 - accuracy: 0.9033 - val_loss: 0.6156 - val_accuracy: 0.8200\n",
      "Epoch 8/150\n",
      "10/10 [==============================] - 0s 4ms/step - loss: 0.3504 - accuracy: 0.9083 - val_loss: 0.6005 - val_accuracy: 0.8100\n",
      "Epoch 9/150\n",
      "10/10 [==============================] - 0s 4ms/step - loss: 0.3057 - accuracy: 0.9383 - val_loss: 0.5476 - val_accuracy: 0.8300\n",
      "Epoch 10/150\n",
      "10/10 [==============================] - 0s 4ms/step - loss: 0.2823 - accuracy: 0.9333 - val_loss: 0.5385 - val_accuracy: 0.8300\n",
      "Epoch 11/150\n",
      "10/10 [==============================] - 0s 4ms/step - loss: 0.2352 - accuracy: 0.9483 - val_loss: 0.5089 - val_accuracy: 0.8200\n",
      "Epoch 12/150\n",
      "10/10 [==============================] - 0s 5ms/step - loss: 0.2183 - accuracy: 0.9650 - val_loss: 0.5506 - val_accuracy: 0.8100\n",
      "Epoch 13/150\n",
      "10/10 [==============================] - 0s 5ms/step - loss: 0.1728 - accuracy: 0.9650 - val_loss: 0.5319 - val_accuracy: 0.8200\n",
      "Epoch 14/150\n",
      "10/10 [==============================] - 0s 5ms/step - loss: 0.1513 - accuracy: 0.9667 - val_loss: 0.5401 - val_accuracy: 0.8100\n",
      "Epoch 15/150\n",
      "10/10 [==============================] - 0s 4ms/step - loss: 0.1445 - accuracy: 0.9783 - val_loss: 0.5084 - val_accuracy: 0.8500\n",
      "Epoch 16/150\n",
      "10/10 [==============================] - 0s 4ms/step - loss: 0.1489 - accuracy: 0.9767 - val_loss: 0.5028 - val_accuracy: 0.8200\n",
      "Epoch 17/150\n",
      "10/10 [==============================] - 0s 4ms/step - loss: 0.1069 - accuracy: 0.9767 - val_loss: 0.5324 - val_accuracy: 0.8200\n",
      "Epoch 18/150\n",
      "10/10 [==============================] - 0s 4ms/step - loss: 0.1149 - accuracy: 0.9817 - val_loss: 0.4780 - val_accuracy: 0.8200\n",
      "Epoch 19/150\n",
      "10/10 [==============================] - 0s 4ms/step - loss: 0.0932 - accuracy: 0.9833 - val_loss: 0.4890 - val_accuracy: 0.8400\n",
      "Epoch 20/150\n",
      "10/10 [==============================] - 0s 4ms/step - loss: 0.0976 - accuracy: 0.9867 - val_loss: 0.5433 - val_accuracy: 0.8200\n",
      "Epoch 21/150\n",
      "10/10 [==============================] - 0s 4ms/step - loss: 0.0717 - accuracy: 0.9917 - val_loss: 0.5487 - val_accuracy: 0.8400\n",
      "Epoch 22/150\n",
      "10/10 [==============================] - 0s 4ms/step - loss: 0.0626 - accuracy: 0.9933 - val_loss: 0.5031 - val_accuracy: 0.8400\n",
      "Epoch 23/150\n",
      "10/10 [==============================] - 0s 4ms/step - loss: 0.0690 - accuracy: 0.9900 - val_loss: 0.5012 - val_accuracy: 0.8500\n",
      "Epoch 24/150\n",
      "10/10 [==============================] - 0s 4ms/step - loss: 0.0516 - accuracy: 0.9917 - val_loss: 0.5010 - val_accuracy: 0.8400\n",
      "Epoch 25/150\n",
      "10/10 [==============================] - 0s 4ms/step - loss: 0.0562 - accuracy: 0.9883 - val_loss: 0.5188 - val_accuracy: 0.8400\n",
      "Epoch 26/150\n",
      "10/10 [==============================] - 0s 4ms/step - loss: 0.0495 - accuracy: 0.9950 - val_loss: 0.5424 - val_accuracy: 0.8400\n",
      "Epoch 27/150\n",
      "10/10 [==============================] - 0s 4ms/step - loss: 0.0559 - accuracy: 0.9917 - val_loss: 0.5303 - val_accuracy: 0.8200\n",
      "Epoch 28/150\n",
      "10/10 [==============================] - 0s 4ms/step - loss: 0.0439 - accuracy: 0.9917 - val_loss: 0.4827 - val_accuracy: 0.8300\n",
      "Epoch 29/150\n",
      "10/10 [==============================] - 0s 4ms/step - loss: 0.0391 - accuracy: 0.9950 - val_loss: 0.4805 - val_accuracy: 0.8500\n",
      "Epoch 30/150\n",
      "10/10 [==============================] - 0s 4ms/step - loss: 0.0372 - accuracy: 0.9950 - val_loss: 0.5229 - val_accuracy: 0.8200\n",
      "Epoch 31/150\n",
      "10/10 [==============================] - 0s 5ms/step - loss: 0.0455 - accuracy: 0.9883 - val_loss: 0.4996 - val_accuracy: 0.8300\n",
      "Epoch 32/150\n",
      "10/10 [==============================] - 0s 4ms/step - loss: 0.0379 - accuracy: 0.9983 - val_loss: 0.4959 - val_accuracy: 0.8500\n",
      "Epoch 33/150\n",
      "10/10 [==============================] - 0s 5ms/step - loss: 0.0350 - accuracy: 0.9917 - val_loss: 0.5192 - val_accuracy: 0.8500\n",
      "Epoch 34/150\n",
      "10/10 [==============================] - 0s 5ms/step - loss: 0.0360 - accuracy: 0.9933 - val_loss: 0.4754 - val_accuracy: 0.8400\n",
      "Epoch 35/150\n",
      "10/10 [==============================] - 0s 4ms/step - loss: 0.0356 - accuracy: 0.9933 - val_loss: 0.4813 - val_accuracy: 0.8400\n",
      "Epoch 36/150\n",
      "10/10 [==============================] - 0s 5ms/step - loss: 0.0381 - accuracy: 0.9883 - val_loss: 0.5358 - val_accuracy: 0.8400\n",
      "Epoch 37/150\n",
      "10/10 [==============================] - 0s 5ms/step - loss: 0.0317 - accuracy: 0.9983 - val_loss: 0.5127 - val_accuracy: 0.8400\n",
      "Epoch 38/150\n",
      "10/10 [==============================] - 0s 5ms/step - loss: 0.0271 - accuracy: 0.9967 - val_loss: 0.5161 - val_accuracy: 0.8200\n",
      "Epoch 39/150\n",
      "10/10 [==============================] - 0s 4ms/step - loss: 0.0330 - accuracy: 0.9933 - val_loss: 0.5301 - val_accuracy: 0.8400\n",
      "Epoch 40/150\n",
      "10/10 [==============================] - 0s 5ms/step - loss: 0.0264 - accuracy: 0.9983 - val_loss: 0.5139 - val_accuracy: 0.8300\n",
      "Epoch 41/150\n",
      "10/10 [==============================] - 0s 4ms/step - loss: 0.0204 - accuracy: 0.9967 - val_loss: 0.5611 - val_accuracy: 0.8200\n",
      "Epoch 42/150\n",
      "10/10 [==============================] - 0s 4ms/step - loss: 0.0230 - accuracy: 0.9967 - val_loss: 0.5342 - val_accuracy: 0.8300\n",
      "Epoch 43/150\n",
      "10/10 [==============================] - 0s 4ms/step - loss: 0.0205 - accuracy: 0.9967 - val_loss: 0.4937 - val_accuracy: 0.8300\n",
      "Epoch 44/150\n",
      "10/10 [==============================] - 0s 4ms/step - loss: 0.0232 - accuracy: 0.9967 - val_loss: 0.5293 - val_accuracy: 0.8200\n",
      "Epoch 45/150\n",
      "10/10 [==============================] - 0s 4ms/step - loss: 0.0161 - accuracy: 0.9983 - val_loss: 0.5512 - val_accuracy: 0.8200\n",
      "Epoch 46/150\n",
      "10/10 [==============================] - 0s 4ms/step - loss: 0.0169 - accuracy: 0.9967 - val_loss: 0.5523 - val_accuracy: 0.8000\n",
      "Epoch 47/150\n",
      "10/10 [==============================] - 0s 5ms/step - loss: 0.0255 - accuracy: 0.9950 - val_loss: 0.5499 - val_accuracy: 0.8300\n",
      "Epoch 48/150\n",
      "10/10 [==============================] - 0s 5ms/step - loss: 0.0202 - accuracy: 0.9950 - val_loss: 0.5929 - val_accuracy: 0.8300\n",
      "Epoch 49/150\n",
      "10/10 [==============================] - 0s 5ms/step - loss: 0.0161 - accuracy: 0.9967 - val_loss: 0.6345 - val_accuracy: 0.8200\n",
      "Epoch 50/150\n",
      "10/10 [==============================] - 0s 5ms/step - loss: 0.0261 - accuracy: 0.9950 - val_loss: 0.6732 - val_accuracy: 0.8200\n",
      "Epoch 51/150\n",
      "10/10 [==============================] - 0s 4ms/step - loss: 0.0175 - accuracy: 0.9983 - val_loss: 0.6194 - val_accuracy: 0.8300\n",
      "Epoch 52/150\n",
      "10/10 [==============================] - 0s 5ms/step - loss: 0.0201 - accuracy: 0.9967 - val_loss: 0.6014 - val_accuracy: 0.8200\n",
      "Epoch 53/150\n",
      "10/10 [==============================] - 0s 4ms/step - loss: 0.0196 - accuracy: 0.9967 - val_loss: 0.6443 - val_accuracy: 0.8100\n",
      "Epoch 54/150\n",
      "10/10 [==============================] - 0s 4ms/step - loss: 0.0248 - accuracy: 0.9900 - val_loss: 0.6016 - val_accuracy: 0.8200\n",
      "Epoch 55/150\n",
      "10/10 [==============================] - 0s 4ms/step - loss: 0.0187 - accuracy: 0.9967 - val_loss: 0.6152 - val_accuracy: 0.8400\n",
      "Epoch 56/150\n",
      "10/10 [==============================] - 0s 4ms/step - loss: 0.0213 - accuracy: 0.9950 - val_loss: 0.6267 - val_accuracy: 0.8500\n",
      "Epoch 57/150\n",
      "10/10 [==============================] - 0s 4ms/step - loss: 0.0152 - accuracy: 0.9967 - val_loss: 0.6528 - val_accuracy: 0.8500\n",
      "Epoch 58/150\n",
      "10/10 [==============================] - 0s 5ms/step - loss: 0.0195 - accuracy: 0.9950 - val_loss: 0.6420 - val_accuracy: 0.8300\n",
      "Epoch 59/150\n",
      "10/10 [==============================] - 0s 5ms/step - loss: 0.0218 - accuracy: 0.9950 - val_loss: 0.6452 - val_accuracy: 0.8100\n",
      "Epoch 60/150\n",
      "10/10 [==============================] - 0s 5ms/step - loss: 0.0258 - accuracy: 0.9950 - val_loss: 0.5796 - val_accuracy: 0.8400\n",
      "Epoch 61/150\n",
      "10/10 [==============================] - 0s 5ms/step - loss: 0.0146 - accuracy: 0.9983 - val_loss: 0.5635 - val_accuracy: 0.8500\n",
      "Epoch 62/150\n",
      "10/10 [==============================] - 0s 5ms/step - loss: 0.0111 - accuracy: 1.0000 - val_loss: 0.6443 - val_accuracy: 0.8100\n",
      "Epoch 63/150\n",
      "10/10 [==============================] - 0s 5ms/step - loss: 0.0104 - accuracy: 0.9983 - val_loss: 0.6456 - val_accuracy: 0.8200\n",
      "Epoch 64/150\n",
      "10/10 [==============================] - 0s 4ms/step - loss: 0.0262 - accuracy: 0.9917 - val_loss: 0.5744 - val_accuracy: 0.8300\n",
      "Epoch 65/150\n",
      "10/10 [==============================] - 0s 4ms/step - loss: 0.0135 - accuracy: 0.9983 - val_loss: 0.5491 - val_accuracy: 0.8200\n",
      "Epoch 66/150\n",
      "10/10 [==============================] - 0s 5ms/step - loss: 0.0125 - accuracy: 1.0000 - val_loss: 0.5820 - val_accuracy: 0.8400\n",
      "Epoch 67/150\n",
      "10/10 [==============================] - 0s 5ms/step - loss: 0.0139 - accuracy: 0.9967 - val_loss: 0.6666 - val_accuracy: 0.8000\n",
      "Epoch 68/150\n",
      "10/10 [==============================] - 0s 5ms/step - loss: 0.0116 - accuracy: 1.0000 - val_loss: 0.7286 - val_accuracy: 0.8400\n",
      "Epoch 69/150\n",
      "10/10 [==============================] - 0s 5ms/step - loss: 0.0177 - accuracy: 0.9967 - val_loss: 0.6864 - val_accuracy: 0.8500\n",
      "Epoch 70/150\n",
      "10/10 [==============================] - 0s 5ms/step - loss: 0.0137 - accuracy: 0.9983 - val_loss: 0.7245 - val_accuracy: 0.8100\n",
      "Epoch 71/150\n",
      "10/10 [==============================] - 0s 4ms/step - loss: 0.0160 - accuracy: 0.9967 - val_loss: 0.7180 - val_accuracy: 0.8200\n",
      "Epoch 72/150\n",
      "10/10 [==============================] - 0s 5ms/step - loss: 0.0164 - accuracy: 0.9967 - val_loss: 0.6283 - val_accuracy: 0.8400\n",
      "Epoch 73/150\n",
      "10/10 [==============================] - 0s 4ms/step - loss: 0.0189 - accuracy: 0.9967 - val_loss: 0.6207 - val_accuracy: 0.8400\n",
      "Epoch 74/150\n",
      "10/10 [==============================] - 0s 4ms/step - loss: 0.0236 - accuracy: 0.9917 - val_loss: 0.6770 - val_accuracy: 0.8200\n",
      "Epoch 75/150\n",
      "10/10 [==============================] - 0s 4ms/step - loss: 0.0138 - accuracy: 0.9983 - val_loss: 0.6118 - val_accuracy: 0.8500\n",
      "Epoch 76/150\n",
      "10/10 [==============================] - 0s 4ms/step - loss: 0.0194 - accuracy: 0.9967 - val_loss: 0.6163 - val_accuracy: 0.8500\n",
      "Epoch 77/150\n",
      "10/10 [==============================] - 0s 4ms/step - loss: 0.0122 - accuracy: 1.0000 - val_loss: 0.6288 - val_accuracy: 0.8400\n",
      "Epoch 78/150\n",
      "10/10 [==============================] - 0s 4ms/step - loss: 0.0120 - accuracy: 0.9983 - val_loss: 0.5303 - val_accuracy: 0.8700\n",
      "Epoch 79/150\n",
      "10/10 [==============================] - 0s 4ms/step - loss: 0.0142 - accuracy: 1.0000 - val_loss: 0.6232 - val_accuracy: 0.8500\n",
      "Epoch 80/150\n",
      "10/10 [==============================] - 0s 4ms/step - loss: 0.0121 - accuracy: 0.9967 - val_loss: 0.6401 - val_accuracy: 0.8200\n",
      "Epoch 81/150\n",
      "10/10 [==============================] - 0s 4ms/step - loss: 0.0092 - accuracy: 1.0000 - val_loss: 0.6292 - val_accuracy: 0.8800\n",
      "Epoch 82/150\n",
      "10/10 [==============================] - 0s 5ms/step - loss: 0.0145 - accuracy: 0.9950 - val_loss: 0.6511 - val_accuracy: 0.8700\n",
      "Epoch 83/150\n",
      "10/10 [==============================] - 0s 4ms/step - loss: 0.0081 - accuracy: 0.9983 - val_loss: 0.6836 - val_accuracy: 0.8600\n",
      "Epoch 84/150\n",
      "10/10 [==============================] - 0s 4ms/step - loss: 0.0080 - accuracy: 1.0000 - val_loss: 0.7378 - val_accuracy: 0.8200\n",
      "Epoch 85/150\n",
      "10/10 [==============================] - 0s 4ms/step - loss: 0.0105 - accuracy: 0.9983 - val_loss: 0.7201 - val_accuracy: 0.8200\n",
      "Epoch 86/150\n",
      "10/10 [==============================] - 0s 4ms/step - loss: 0.0109 - accuracy: 0.9967 - val_loss: 0.6945 - val_accuracy: 0.8400\n",
      "Epoch 87/150\n",
      "10/10 [==============================] - 0s 4ms/step - loss: 0.0100 - accuracy: 0.9983 - val_loss: 0.6824 - val_accuracy: 0.8300\n",
      "Epoch 88/150\n",
      "10/10 [==============================] - 0s 4ms/step - loss: 0.0089 - accuracy: 1.0000 - val_loss: 0.6797 - val_accuracy: 0.8500\n",
      "Epoch 89/150\n",
      "10/10 [==============================] - 0s 4ms/step - loss: 0.0128 - accuracy: 0.9983 - val_loss: 0.6913 - val_accuracy: 0.8300\n",
      "Epoch 90/150\n",
      "10/10 [==============================] - 0s 4ms/step - loss: 0.0087 - accuracy: 0.9983 - val_loss: 0.7718 - val_accuracy: 0.8300\n",
      "Epoch 91/150\n",
      "10/10 [==============================] - 0s 4ms/step - loss: 0.0061 - accuracy: 1.0000 - val_loss: 0.7231 - val_accuracy: 0.8200\n",
      "Epoch 92/150\n",
      "10/10 [==============================] - 0s 4ms/step - loss: 0.0088 - accuracy: 0.9983 - val_loss: 0.7105 - val_accuracy: 0.8300\n",
      "Epoch 93/150\n",
      "10/10 [==============================] - 0s 4ms/step - loss: 0.0062 - accuracy: 1.0000 - val_loss: 0.7544 - val_accuracy: 0.8100\n",
      "Epoch 94/150\n",
      "10/10 [==============================] - 0s 4ms/step - loss: 0.0100 - accuracy: 1.0000 - val_loss: 0.7906 - val_accuracy: 0.8300\n",
      "Epoch 95/150\n",
      "10/10 [==============================] - 0s 4ms/step - loss: 0.0065 - accuracy: 1.0000 - val_loss: 0.8480 - val_accuracy: 0.7700\n",
      "Epoch 96/150\n",
      "10/10 [==============================] - 0s 5ms/step - loss: 0.0101 - accuracy: 0.9983 - val_loss: 0.7435 - val_accuracy: 0.8300\n",
      "Epoch 97/150\n",
      "10/10 [==============================] - 0s 4ms/step - loss: 0.0142 - accuracy: 0.9950 - val_loss: 0.7864 - val_accuracy: 0.8200\n",
      "Epoch 98/150\n",
      "10/10 [==============================] - 0s 4ms/step - loss: 0.0102 - accuracy: 0.9983 - val_loss: 0.8283 - val_accuracy: 0.8200\n",
      "Epoch 99/150\n",
      "10/10 [==============================] - 0s 4ms/step - loss: 0.0051 - accuracy: 1.0000 - val_loss: 0.8186 - val_accuracy: 0.8100\n",
      "Epoch 100/150\n",
      "10/10 [==============================] - 0s 4ms/step - loss: 0.0101 - accuracy: 0.9950 - val_loss: 0.8410 - val_accuracy: 0.8200\n",
      "Epoch 101/150\n",
      "10/10 [==============================] - 0s 4ms/step - loss: 0.0056 - accuracy: 1.0000 - val_loss: 0.8128 - val_accuracy: 0.8200\n",
      "Epoch 102/150\n",
      "10/10 [==============================] - 0s 5ms/step - loss: 0.0081 - accuracy: 0.9983 - val_loss: 0.7913 - val_accuracy: 0.8300\n",
      "Epoch 103/150\n",
      "10/10 [==============================] - 0s 5ms/step - loss: 0.0066 - accuracy: 1.0000 - val_loss: 0.8054 - val_accuracy: 0.8200\n",
      "Epoch 104/150\n",
      "10/10 [==============================] - 0s 4ms/step - loss: 0.0058 - accuracy: 1.0000 - val_loss: 0.7938 - val_accuracy: 0.8000\n",
      "Epoch 105/150\n",
      "10/10 [==============================] - 0s 5ms/step - loss: 0.0080 - accuracy: 0.9950 - val_loss: 0.7961 - val_accuracy: 0.8100\n",
      "Epoch 106/150\n",
      "10/10 [==============================] - 0s 4ms/step - loss: 0.0078 - accuracy: 1.0000 - val_loss: 0.8676 - val_accuracy: 0.8100\n",
      "Epoch 107/150\n",
      "10/10 [==============================] - 0s 4ms/step - loss: 0.0068 - accuracy: 1.0000 - val_loss: 0.8823 - val_accuracy: 0.8100\n",
      "Epoch 108/150\n",
      "10/10 [==============================] - 0s 4ms/step - loss: 0.0039 - accuracy: 1.0000 - val_loss: 0.7886 - val_accuracy: 0.8100\n",
      "Epoch 109/150\n",
      "10/10 [==============================] - 0s 4ms/step - loss: 0.0051 - accuracy: 1.0000 - val_loss: 0.7286 - val_accuracy: 0.8300\n",
      "Epoch 110/150\n",
      "10/10 [==============================] - 0s 4ms/step - loss: 0.0028 - accuracy: 1.0000 - val_loss: 0.7091 - val_accuracy: 0.8300\n",
      "Epoch 111/150\n",
      "10/10 [==============================] - 0s 4ms/step - loss: 0.0042 - accuracy: 1.0000 - val_loss: 0.7116 - val_accuracy: 0.8300\n",
      "Epoch 112/150\n",
      "10/10 [==============================] - 0s 4ms/step - loss: 0.0029 - accuracy: 1.0000 - val_loss: 0.7420 - val_accuracy: 0.8300\n",
      "Epoch 113/150\n",
      "10/10 [==============================] - 0s 4ms/step - loss: 0.0059 - accuracy: 1.0000 - val_loss: 0.7861 - val_accuracy: 0.8200\n",
      "Epoch 114/150\n",
      "10/10 [==============================] - 0s 5ms/step - loss: 0.0080 - accuracy: 0.9983 - val_loss: 0.8723 - val_accuracy: 0.8100\n",
      "Epoch 115/150\n",
      "10/10 [==============================] - 0s 4ms/step - loss: 0.0052 - accuracy: 1.0000 - val_loss: 0.9076 - val_accuracy: 0.8000\n",
      "Epoch 116/150\n",
      "10/10 [==============================] - 0s 4ms/step - loss: 0.0052 - accuracy: 0.9983 - val_loss: 0.9242 - val_accuracy: 0.8000\n",
      "Epoch 117/150\n",
      "10/10 [==============================] - 0s 4ms/step - loss: 0.0060 - accuracy: 1.0000 - val_loss: 0.9739 - val_accuracy: 0.8100\n",
      "Epoch 118/150\n",
      "10/10 [==============================] - 0s 4ms/step - loss: 0.0087 - accuracy: 0.9983 - val_loss: 0.9837 - val_accuracy: 0.8100\n",
      "Epoch 119/150\n",
      "10/10 [==============================] - 0s 4ms/step - loss: 0.0074 - accuracy: 0.9983 - val_loss: 0.9584 - val_accuracy: 0.8000\n",
      "Epoch 120/150\n",
      "10/10 [==============================] - 0s 4ms/step - loss: 0.0081 - accuracy: 1.0000 - val_loss: 0.9272 - val_accuracy: 0.8100\n",
      "Epoch 121/150\n",
      "10/10 [==============================] - 0s 4ms/step - loss: 0.0038 - accuracy: 1.0000 - val_loss: 0.9119 - val_accuracy: 0.8100\n",
      "Epoch 122/150\n",
      "10/10 [==============================] - 0s 4ms/step - loss: 0.0052 - accuracy: 1.0000 - val_loss: 0.8520 - val_accuracy: 0.8000\n",
      "Epoch 123/150\n",
      "10/10 [==============================] - 0s 5ms/step - loss: 0.0051 - accuracy: 1.0000 - val_loss: 0.8198 - val_accuracy: 0.8200\n",
      "Epoch 124/150\n",
      "10/10 [==============================] - 0s 4ms/step - loss: 0.0053 - accuracy: 0.9983 - val_loss: 0.8300 - val_accuracy: 0.8300\n",
      "Epoch 125/150\n",
      "10/10 [==============================] - 0s 4ms/step - loss: 0.0075 - accuracy: 0.9983 - val_loss: 0.8323 - val_accuracy: 0.8400\n",
      "Epoch 126/150\n",
      "10/10 [==============================] - 0s 4ms/step - loss: 0.0058 - accuracy: 1.0000 - val_loss: 0.7994 - val_accuracy: 0.8400\n",
      "Epoch 127/150\n",
      "10/10 [==============================] - 0s 4ms/step - loss: 0.0077 - accuracy: 0.9983 - val_loss: 0.8565 - val_accuracy: 0.8000\n",
      "Epoch 128/150\n",
      "10/10 [==============================] - 0s 4ms/step - loss: 0.0078 - accuracy: 1.0000 - val_loss: 0.9299 - val_accuracy: 0.8200\n",
      "Epoch 129/150\n",
      "10/10 [==============================] - 0s 6ms/step - loss: 0.0054 - accuracy: 1.0000 - val_loss: 0.8596 - val_accuracy: 0.8300\n",
      "Epoch 130/150\n",
      "10/10 [==============================] - 0s 4ms/step - loss: 0.0052 - accuracy: 1.0000 - val_loss: 0.8287 - val_accuracy: 0.8200\n",
      "Epoch 131/150\n",
      "10/10 [==============================] - 0s 4ms/step - loss: 0.0094 - accuracy: 1.0000 - val_loss: 0.9108 - val_accuracy: 0.7700\n",
      "Epoch 132/150\n",
      "10/10 [==============================] - 0s 5ms/step - loss: 0.0114 - accuracy: 0.9967 - val_loss: 0.9816 - val_accuracy: 0.8200\n",
      "Epoch 133/150\n",
      "10/10 [==============================] - 0s 4ms/step - loss: 0.0090 - accuracy: 0.9967 - val_loss: 1.1360 - val_accuracy: 0.8100\n",
      "Epoch 134/150\n",
      "10/10 [==============================] - 0s 6ms/step - loss: 0.0369 - accuracy: 0.9933 - val_loss: 0.8610 - val_accuracy: 0.8400\n",
      "Epoch 135/150\n",
      "10/10 [==============================] - 0s 4ms/step - loss: 0.0163 - accuracy: 0.9950 - val_loss: 0.9659 - val_accuracy: 0.8400\n",
      "Epoch 136/150\n",
      "10/10 [==============================] - 0s 4ms/step - loss: 0.0186 - accuracy: 0.9950 - val_loss: 0.9270 - val_accuracy: 0.8100\n",
      "Epoch 137/150\n",
      "10/10 [==============================] - 0s 4ms/step - loss: 0.0129 - accuracy: 0.9983 - val_loss: 0.8901 - val_accuracy: 0.8600\n",
      "Epoch 138/150\n",
      "10/10 [==============================] - 0s 4ms/step - loss: 0.0086 - accuracy: 0.9983 - val_loss: 0.9392 - val_accuracy: 0.8500\n",
      "Epoch 139/150\n",
      "10/10 [==============================] - 0s 4ms/step - loss: 0.0084 - accuracy: 0.9967 - val_loss: 0.9540 - val_accuracy: 0.8400\n",
      "Epoch 140/150\n",
      "10/10 [==============================] - 0s 4ms/step - loss: 0.0053 - accuracy: 1.0000 - val_loss: 0.9171 - val_accuracy: 0.8200\n",
      "Epoch 141/150\n",
      "10/10 [==============================] - 0s 4ms/step - loss: 0.0043 - accuracy: 1.0000 - val_loss: 0.9142 - val_accuracy: 0.8100\n",
      "Epoch 142/150\n",
      "10/10 [==============================] - 0s 4ms/step - loss: 0.0031 - accuracy: 1.0000 - val_loss: 0.8974 - val_accuracy: 0.8200\n",
      "Epoch 143/150\n",
      "10/10 [==============================] - 0s 4ms/step - loss: 0.0060 - accuracy: 0.9983 - val_loss: 0.8540 - val_accuracy: 0.8600\n",
      "Epoch 144/150\n",
      "10/10 [==============================] - 0s 4ms/step - loss: 0.0026 - accuracy: 1.0000 - val_loss: 0.8326 - val_accuracy: 0.8600\n",
      "Epoch 145/150\n",
      "10/10 [==============================] - 0s 4ms/step - loss: 0.0039 - accuracy: 1.0000 - val_loss: 0.8267 - val_accuracy: 0.8500\n",
      "Epoch 146/150\n",
      "10/10 [==============================] - 0s 4ms/step - loss: 0.0035 - accuracy: 1.0000 - val_loss: 0.8218 - val_accuracy: 0.8500\n",
      "Epoch 147/150\n",
      "10/10 [==============================] - 0s 4ms/step - loss: 0.0031 - accuracy: 1.0000 - val_loss: 0.8422 - val_accuracy: 0.8500\n",
      "Epoch 148/150\n",
      "10/10 [==============================] - 0s 4ms/step - loss: 0.0041 - accuracy: 1.0000 - val_loss: 0.8440 - val_accuracy: 0.8500\n",
      "Epoch 149/150\n",
      "10/10 [==============================] - 0s 4ms/step - loss: 0.0047 - accuracy: 0.9967 - val_loss: 0.8399 - val_accuracy: 0.8700\n",
      "Epoch 150/150\n",
      "10/10 [==============================] - 0s 4ms/step - loss: 0.0070 - accuracy: 0.9983 - val_loss: 0.8478 - val_accuracy: 0.8500\n"
     ]
    }
   ],
   "source": [
    "\n",
    "\n",
    "# Train the model with the new callback\n",
    "classical_model = model.fit(train_images,\n",
    "          train_labels,\n",
    "          epochs=150,\n",
    "          shuffle=True,\n",
    "          batch_size=64,\n",
    "          validation_data=(test_images, test_labels),\n",
    "          )  # Pass callback to training\n",
    "\n",
    "# This may generate warnings related to saving the state of the optimizer.\n",
    "# These warnings (and similar warnings throughout this notebook)\n",
    "# are in place to discourage outdated usage, and can be ignored."
   ],
   "metadata": {
    "collapsed": false,
    "pycharm": {
     "name": "#%%\n"
    }
   }
  },
  {
   "cell_type": "code",
   "execution_count": 13,
   "outputs": [
    {
     "name": "stdout",
     "output_type": "stream",
     "text": [
      "4/4 - 0s - loss: 1.7947 - sparse_categorical_accuracy: 0.3500 - 20ms/epoch - 5ms/step\n",
      "Untrained model, accuracy: 35.00%\n"
     ]
    }
   ],
   "source": [
    "# Evaluate the model\n",
    "loss, acc = model.evaluate(test_images, test_labels, verbose=2)\n",
    "print(\"Untrained model, accuracy: {:5.2f}%\".format(100 * acc))"
   ],
   "metadata": {
    "collapsed": false,
    "pycharm": {
     "name": "#%%\n"
    }
   }
  },
  {
   "cell_type": "code",
   "execution_count": 34,
   "outputs": [],
   "source": [
    "import matplotlib.pyplot as plt"
   ],
   "metadata": {
    "collapsed": false,
    "pycharm": {
     "name": "#%%\n"
    }
   }
  },
  {
   "cell_type": "code",
   "execution_count": 35,
   "outputs": [
    {
     "data": {
      "text/plain": "<Figure size 432x288 with 1 Axes>",
      "image/png": "[encoded data removed]"
     },
     "metadata": {
      "needs_background": "light"
     },
     "output_type": "display_data"
    }
   ],
   "source": [
    "# ===================================================================================\n",
    "#                                  Loss History Plot\n",
    "# ===================================================================================\n",
    "\n",
    "plt.title('model loss')\n",
    "plt.plot(classical_model.history['loss'])\n",
    "plt.ylabel('loss')\n",
    "plt.show()"
   ],
   "metadata": {
    "collapsed": false,
    "pycharm": {
     "name": "#%%\n"
    }
   }
  },
  {
   "cell_type": "code",
   "execution_count": 36,
   "outputs": [
    {
     "data": {
      "text/plain": "<Figure size 432x288 with 1 Axes>",
      "image/png": "[encoded data removed]"
     },
     "metadata": {
      "needs_background": "light"
     },
     "output_type": "display_data"
    }
   ],
   "source": [
    "# ===================================================================================\n",
    "#                                Accuracy History Plot\n",
    "# ===================================================================================\n",
    "\n",
    "plt.title('model accuracy')\n",
    "plt.plot(classical_model.history['accuracy'])\n",
    "plt.ylabel('accuracy')\n",
    "plt.show()"
   ],
   "metadata": {
    "collapsed": false,
    "pycharm": {
     "name": "#%%\n"
    }
   }
  },
  {
   "cell_type": "code",
   "execution_count": 43,
   "outputs": [
    {
     "name": "stdout",
     "output_type": "stream",
     "text": [
      "INFO:tensorflow:Assets written to: classical_model\\assets\n"
     ]
    }
   ],
   "source": [
    "model.save(\"classical_model\")"
   ],
   "metadata": {
    "collapsed": false,
    "pycharm": {
     "name": "#%%\n"
    }
   }
  },
  {
   "cell_type": "code",
   "execution_count": 48,
   "outputs": [],
   "source": [
    "import pickle\n",
    "\n",
    "# save:\n",
    "f = open('history_classical_model.pckl', 'wb')\n",
    "pickle.dump(classical_model.history, f)\n",
    "f.close()"
   ],
   "metadata": {
    "collapsed": false,
    "pycharm": {
     "name": "#%%\n"
    }
   }
  },
  {
   "cell_type": "code",
   "execution_count": null,
   "outputs": [],
   "source": [],
   "metadata": {
    "collapsed": false,
    "pycharm": {
     "name": "#%%\n"
    }
   }
  }
 ],
 "metadata": {
  "kernelspec": {
   "display_name": "Python 3",
   "language": "python",
   "name": "python3"
  },
  "language_info": {
   "codemirror_mode": {
    "name": "ipython",
    "version": 2
   },
   "file_extension": ".py",
   "mimetype": "text/x-python",
   "name": "python",
   "nbconvert_exporter": "python",
   "pygments_lexer": "ipython2",
   "version": "2.7.6"
  }
 },
 "nbformat": 4,
 "nbformat_minor": 0
}