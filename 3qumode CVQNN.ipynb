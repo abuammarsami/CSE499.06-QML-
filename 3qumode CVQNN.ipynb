{
 "cells": [
  {
   "cell_type": "code",
   "execution_count": 1,
   "metadata": {
    "collapsed": true,
    "pycharm": {
     "name": "#%%\n"
    }
   },
   "outputs": [],
   "source": [
    "import tensorflow as tf\n",
    "import tensorflow_datasets as tfds\n",
    "from tensorflow import keras\n",
    "from tensorflow.keras import layers\n",
    "\n",
    "import pennylane as qml\n",
    "import numpy as np\n",
    "\n",
    "import matplotlib.pyplot as plt\n",
    "import strawberryfields as sf"
   ]
  },
  {
   "cell_type": "code",
   "execution_count": 2,
   "outputs": [],
   "source": [
    "mnist = keras.datasets.mnist\n",
    "\n",
    "# datasets are numpy.ndarrays\n",
    "(X_train, Y_train),  (X_test, Y_test) = mnist.load_data()\n"
   ],
   "metadata": {
    "collapsed": false,
    "pycharm": {
     "name": "#%%\n"
    }
   }
  },
  {
   "cell_type": "code",
   "execution_count": 3,
   "outputs": [],
   "source": [
    "# normalize the pixels from 0 ~ 225 to 0 ~ 1\n",
    "X_train, X_test = X_train / 255.0, X_test / 255.0"
   ],
   "metadata": {
    "collapsed": false,
    "pycharm": {
     "name": "#%%\n"
    }
   }
  },
  {
   "cell_type": "code",
   "execution_count": 4,
   "outputs": [],
   "source": [
    "def one_hot(labels):\n",
    "\n",
    "    depth =  4**2                       # 10 classes + 6 zeros for padding\n",
    "    indices = labels.astype(np.int32)\n",
    "    one_hot_labels = np.eye(depth)[indices].astype(np.float32)\n",
    "\n",
    "    return one_hot_labels\n",
    "\n",
    "# one-hot encoded labels, each label of length cutoff dimension**2\n",
    "y_train,y_test = one_hot(Y_train), one_hot(Y_test)\n",
    "\n",
    "# using only 700 samples for training in this experiment\n",
    "n_samples = 500\n",
    "test_samples = 100\n",
    "X_train, X_val, X_test, y_train,y_val, y_test = X_train[:n_samples], X_train[n_samples:700],X_test[:test_samples], y_train[:n_samples],y_train[n_samples:700], y_test[:test_samples]"
   ],
   "metadata": {
    "collapsed": false,
    "pycharm": {
     "name": "#%%\n"
    }
   }
  },
  {
   "cell_type": "code",
   "execution_count": 20,
   "outputs": [
    {
     "name": "stdout",
     "output_type": "stream",
     "text": [
      "Model: \"sequential_1\"\n",
      "_________________________________________________________________\n",
      " Layer (type)                Output Shape              Param #   \n",
      "=================================================================\n",
      " flatten_1 (Flatten)         (None, 784)               0         \n",
      "                                                                 \n",
      " dense_4 (Dense)             (None, 128)               100480    \n",
      "                                                                 \n",
      " dense_5 (Dense)             (None, 64)                8256      \n",
      "                                                                 \n",
      " dense_6 (Dense)             (None, 32)                2080      \n",
      "                                                                 \n",
      " dense_7 (Dense)             (None, 22)                726       \n",
      "                                                                 \n",
      "=================================================================\n",
      "Total params: 111,542\n",
      "Trainable params: 111,542\n",
      "Non-trainable params: 0\n",
      "_________________________________________________________________\n"
     ]
    }
   ],
   "source": [
    "keras.backend.set_floatx('float64')\n",
    "\n",
    "model = keras.models.Sequential([\n",
    "                                 layers.Flatten(input_shape = (28,28)),\n",
    "                                 layers.Dense(128, activation =\"elu\"),\n",
    "                                 layers.Dense(64, activation =\"elu\"),\n",
    "                                 layers.Dense(32, activation =\"elu\"),\n",
    "                                 layers.Dense(22, activation =\"elu\")\n",
    "                                ])\n",
    "\n",
    "# More than a million parameters for the classical circuit\n",
    "model.summary()"
   ],
   "metadata": {
    "collapsed": false,
    "pycharm": {
     "name": "#%%\n"
    }
   }
  },
  {
   "cell_type": "code",
   "execution_count": 30,
   "outputs": [],
   "source": [
    "def init_layer(x):\n",
    "    qml.Squeezing(x[0], 0.0, wires=0)\n",
    "    qml.Squeezing(x[1], 0.0, wires=1)\n",
    "    qml.Squeezing(x[2], 0.0, wires=2)\n",
    "\n",
    "    qml.Beamsplitter(x[3], x[4], wires=[0,1])\n",
    "    qml.Beamsplitter(x[5], x[6], wires=[1,2])\n",
    "\n",
    "    qml.Rotation(x[7], wires=0)\n",
    "    qml.Rotation(x[8], wires=1)\n",
    "    qml.Rotation(x[9], wires=2)\n",
    "\n",
    "    qml.Displacement(x[10], 0.0, wires=0)\n",
    "    qml.Displacement(x[11], 0.0, wires=1)\n",
    "    qml.Displacement(x[12], 0.0, wires=2)\n",
    "\n",
    "    qml.Kerr(x[13], wires=0)\n",
    "    qml.Kerr(x[14], wires=1)\n",
    "    qml.Kerr(x[15], wires=2)"
   ],
   "metadata": {
    "collapsed": false,
    "pycharm": {
     "name": "#%%\n"
    }
   }
  },
  {
   "cell_type": "code",
   "execution_count": 31,
   "outputs": [],
   "source": [
    "def layer(v):\n",
    "    qml.Beamsplitter(v[0], v[1], wires=[0,1])\n",
    "    qml.Beamsplitter(v[2], v[3], wires=[1,2])\n",
    "\n",
    "    qml.Rotation(v[4], wires=0)\n",
    "    qml.Rotation(v[5], wires=1)\n",
    "    qml.Rotation(v[6], wires=2)\n",
    "\n",
    "    qml.Squeezing(v[7], 0.0, wires=0)\n",
    "    qml.Squeezing(v[8], 0.0, wires=1)\n",
    "    qml.Squeezing(v[9], 0.0, wires=2)\n",
    "\n",
    "    qml.Beamsplitter(v[10], v[11], wires=[0,1])\n",
    "    qml.Beamsplitter(v[12], v[13], wires=[1,2])\n",
    "\n",
    "    qml.Rotation(v[14], wires=0)\n",
    "    qml.Rotation(v[15], wires=1)\n",
    "    qml.Rotation(v[16], wires=2)\n",
    "\n",
    "    qml.Displacement(v[17], 0.0, wires=0)\n",
    "    qml.Displacement(v[18], 0.0, wires=1)\n",
    "    qml.Displacement(v[19], 0.0, wires=2)\n",
    "\n",
    "    qml.Kerr(v[20], wires=0)\n",
    "    qml.Kerr(v[21], wires=1)\n",
    "    qml.Kerr(v[22], wires=2)"
   ],
   "metadata": {
    "collapsed": false,
    "pycharm": {
     "name": "#%%\n"
    }
   }
  },
  {
   "cell_type": "code",
   "execution_count": 32,
   "outputs": [],
   "source": [
    "def init_weights(layers, modes, active_sd=0.0001, passive_sd=0.1):\n",
    "\n",
    "    M = 4+3  # Number of interferometer parameters: 2 2-parameter beamsplitters + 3 rotations\n",
    "\n",
    "    int1_weights = tf.random.normal(shape=[layers, M], stddev=passive_sd)\n",
    "    s_weights = tf.random.normal(shape=[layers, modes], stddev=active_sd)\n",
    "    int2_weights = tf.random.normal(shape=[layers, M], stddev=passive_sd)\n",
    "    dr_weights = tf.random.normal(shape=[layers, modes], stddev=active_sd)\n",
    "    k_weights = tf.random.normal(shape=[layers, modes], stddev=active_sd)\n",
    "\n",
    "    weights = tf.concat([int1_weights, s_weights, int2_weights, dr_weights, k_weights], axis=1)\n",
    "    weights = tf.Variable(weights)\n",
    "\n",
    "    return weights"
   ],
   "metadata": {
    "collapsed": false,
    "pycharm": {
     "name": "#%%\n"
    }
   }
  },
  {
   "cell_type": "code",
   "execution_count": 33,
   "outputs": [],
   "source": [
    "num_modes = 3\n",
    "num_basis = 3\n",
    "\n",
    "dev = qml.device(\"strawberryfields.fock\", wires=num_modes, cutoff_dim=num_basis)\n",
    "\n",
    "@qml.qnode(dev, interface=\"tf\")\n",
    "def quantum_nn(inputs, var):\n",
    "    init_layer(inputs)            # Encode input x into quantum state\n",
    "\n",
    "    for v in var:                 # iterative quantum layers\n",
    "        layer(v)\n",
    "\n",
    "    return qml.probs(wires=[0, 1, 2])  # Measurement"
   ],
   "metadata": {
    "collapsed": false,
    "pycharm": {
     "name": "#%%\n"
    }
   }
  },
  {
   "cell_type": "code",
   "execution_count": 34,
   "outputs": [],
   "source": [
    "num_layers = 4\n",
    "\n",
    "# initialize weights for quantum layers\n",
    "weights = init_weights(num_layers, num_modes)\n",
    "\n",
    "# Convert the quantum layer to a Keras layer\n",
    "shape_tup = weights.shape\n",
    "weight_shapes = {'var': shape_tup}\n",
    "qlayer = qml.qnn.KerasLayer(quantum_nn, weight_shapes, output_dim = 4)\n",
    "\n",
    "# Add to the classical sequential model\n",
    "model.add(qlayer)"
   ],
   "metadata": {
    "collapsed": false,
    "pycharm": {
     "name": "#%%\n"
    }
   }
  },
  {
   "cell_type": "code",
   "execution_count": 26,
   "outputs": [],
   "source": [
    "from tensorflow.keras.callbacks import ReduceLROnPlateau"
   ],
   "metadata": {
    "collapsed": false,
    "pycharm": {
     "name": "#%%\n"
    }
   }
  },
  {
   "cell_type": "code",
   "execution_count": 27,
   "outputs": [],
   "source": [
    "variable_learning_rate = ReduceLROnPlateau(monitor='val_loss', factor = 0.2, patience = 2)"
   ],
   "metadata": {
    "collapsed": false,
    "pycharm": {
     "name": "#%%\n"
    }
   }
  },
  {
   "cell_type": "code",
   "execution_count": 35,
   "outputs": [
    {
     "name": "stdout",
     "output_type": "stream",
     "text": [
      "Model: \"sequential_1\"\n",
      "_________________________________________________________________\n",
      " Layer (type)                Output Shape              Param #   \n",
      "=================================================================\n",
      " flatten_1 (Flatten)         (None, 784)               0         \n",
      "                                                                 \n",
      " dense_4 (Dense)             (None, 128)               100480    \n",
      "                                                                 \n",
      " dense_5 (Dense)             (None, 64)                8256      \n",
      "                                                                 \n",
      " dense_6 (Dense)             (None, 32)                2080      \n",
      "                                                                 \n",
      " dense_7 (Dense)             (None, 22)                726       \n",
      "                                                                 \n",
      " keras_layer_1 (KerasLayer)  (None, 4)                 92        \n",
      "                                                                 \n",
      " keras_layer_2 (KerasLayer)  (None, 4)                 0 (unused)\n",
      "                                                                 \n",
      "=================================================================\n",
      "Total params: 111,634\n",
      "Trainable params: 111,634\n",
      "Non-trainable params: 0\n",
      "_________________________________________________________________\n"
     ]
    },
    {
     "name": "stderr",
     "output_type": "stream",
     "text": [
      "E:\\git_repo_asus\\CSE499.06(QML)\\venv\\lib\\site-packages\\keras\\optimizers\\optimizer_v2\\gradient_descent.py:108: UserWarning: The `lr` argument is deprecated, use `learning_rate` instead.\n"
     ]
    }
   ],
   "source": [
    "opt = keras.optimizers.SGD(lr = 0.03)\n",
    "model.compile(opt, loss = 'categorical_crossentropy', metrics =['accuracy'])\n",
    "model.summary()"
   ],
   "metadata": {
    "collapsed": false,
    "pycharm": {
     "name": "#%%\n"
    }
   }
  },
  {
   "cell_type": "code",
   "execution_count": 37,
   "outputs": [
    {
     "name": "stdout",
     "output_type": "stream",
     "text": [
      "Epoch 1/100\n"
     ]
    },
    {
     "ename": "ValueError",
     "evalue": "Shapes (64, 16) and (64, 27) are incompatible",
     "output_type": "error",
     "traceback": [
      "\u001B[1;31m---------------------------------------------------------------------------\u001B[0m",
      "\u001B[1;31mValueError\u001B[0m                                Traceback (most recent call last)",
      "Input \u001B[1;32mIn [37]\u001B[0m, in \u001B[0;36m<cell line: 1>\u001B[1;34m()\u001B[0m\n\u001B[1;32m----> 1\u001B[0m hybrid \u001B[38;5;241m=\u001B[39m \u001B[43mmodel\u001B[49m\u001B[38;5;241;43m.\u001B[39;49m\u001B[43mfit\u001B[49m\u001B[43m(\u001B[49m\u001B[43mX_train\u001B[49m\u001B[38;5;241;43m.\u001B[39;49m\u001B[43mastype\u001B[49m\u001B[43m(\u001B[49m\u001B[38;5;124;43m'\u001B[39;49m\u001B[38;5;124;43mfloat32\u001B[39;49m\u001B[38;5;124;43m'\u001B[39;49m\u001B[43m)\u001B[49m\u001B[43m,\u001B[49m\n\u001B[0;32m      2\u001B[0m \u001B[43m                   \u001B[49m\u001B[43my_train\u001B[49m\u001B[38;5;241;43m.\u001B[39;49m\u001B[43mastype\u001B[49m\u001B[43m(\u001B[49m\u001B[38;5;124;43m'\u001B[39;49m\u001B[38;5;124;43mfloat32\u001B[39;49m\u001B[38;5;124;43m'\u001B[39;49m\u001B[43m)\u001B[49m\u001B[43m,\u001B[49m\n\u001B[0;32m      3\u001B[0m \u001B[43m                   \u001B[49m\u001B[43mepochs\u001B[49m\u001B[43m \u001B[49m\u001B[38;5;241;43m=\u001B[39;49m\u001B[43m \u001B[49m\u001B[38;5;241;43m100\u001B[39;49m\u001B[43m,\u001B[49m\n\u001B[0;32m      4\u001B[0m \u001B[43m                   \u001B[49m\u001B[43mbatch_size\u001B[49m\u001B[43m \u001B[49m\u001B[38;5;241;43m=\u001B[39;49m\u001B[43m \u001B[49m\u001B[38;5;241;43m64\u001B[39;49m\u001B[43m,\u001B[49m\n\u001B[0;32m      5\u001B[0m \u001B[43m                   \u001B[49m\u001B[43mshuffle\u001B[49m\u001B[43m \u001B[49m\u001B[38;5;241;43m=\u001B[39;49m\u001B[43m \u001B[49m\u001B[38;5;28;43;01mTrue\u001B[39;49;00m\u001B[43m,\u001B[49m\n\u001B[0;32m      6\u001B[0m \u001B[43m        \u001B[49m\n\u001B[0;32m      7\u001B[0m \u001B[43m                   \u001B[49m\u001B[43mvalidation_data\u001B[49m\u001B[43m \u001B[49m\u001B[38;5;241;43m=\u001B[39;49m\u001B[43m \u001B[49m\u001B[43m(\u001B[49m\u001B[43mX_val\u001B[49m\u001B[38;5;241;43m.\u001B[39;49m\u001B[43mastype\u001B[49m\u001B[43m(\u001B[49m\u001B[38;5;124;43m'\u001B[39;49m\u001B[38;5;124;43mfloat32\u001B[39;49m\u001B[38;5;124;43m'\u001B[39;49m\u001B[43m)\u001B[49m\u001B[43m,\u001B[49m\u001B[43m \u001B[49m\u001B[43my_val\u001B[49m\u001B[38;5;241;43m.\u001B[39;49m\u001B[43mastype\u001B[49m\u001B[43m(\u001B[49m\u001B[38;5;124;43m'\u001B[39;49m\u001B[38;5;124;43mfloat32\u001B[39;49m\u001B[38;5;124;43m'\u001B[39;49m\u001B[43m)\u001B[49m\u001B[43m)\u001B[49m\n\u001B[0;32m      8\u001B[0m \u001B[43m                   \u001B[49m\u001B[43m)\u001B[49m\n",
      "File \u001B[1;32mE:\\git_repo_asus\\CSE499.06(QML)\\venv\\lib\\site-packages\\keras\\utils\\traceback_utils.py:67\u001B[0m, in \u001B[0;36mfilter_traceback.<locals>.error_handler\u001B[1;34m(*args, **kwargs)\u001B[0m\n\u001B[0;32m     65\u001B[0m \u001B[38;5;28;01mexcept\u001B[39;00m \u001B[38;5;167;01mException\u001B[39;00m \u001B[38;5;28;01mas\u001B[39;00m e:  \u001B[38;5;66;03m# pylint: disable=broad-except\u001B[39;00m\n\u001B[0;32m     66\u001B[0m   filtered_tb \u001B[38;5;241m=\u001B[39m _process_traceback_frames(e\u001B[38;5;241m.\u001B[39m__traceback__)\n\u001B[1;32m---> 67\u001B[0m   \u001B[38;5;28;01mraise\u001B[39;00m e\u001B[38;5;241m.\u001B[39mwith_traceback(filtered_tb) \u001B[38;5;28;01mfrom\u001B[39;00m \u001B[38;5;28mNone\u001B[39m\n\u001B[0;32m     68\u001B[0m \u001B[38;5;28;01mfinally\u001B[39;00m:\n\u001B[0;32m     69\u001B[0m   \u001B[38;5;28;01mdel\u001B[39;00m filtered_tb\n",
      "File \u001B[1;32mE:\\git_repo_asus\\CSE499.06(QML)\\venv\\lib\\site-packages\\keras\\backend.py:5119\u001B[0m, in \u001B[0;36mcategorical_crossentropy\u001B[1;34m(target, output, from_logits, axis)\u001B[0m\n\u001B[0;32m   5117\u001B[0m target \u001B[38;5;241m=\u001B[39m tf\u001B[38;5;241m.\u001B[39mconvert_to_tensor(target)\n\u001B[0;32m   5118\u001B[0m output \u001B[38;5;241m=\u001B[39m tf\u001B[38;5;241m.\u001B[39mconvert_to_tensor(output)\n\u001B[1;32m-> 5119\u001B[0m \u001B[43mtarget\u001B[49m\u001B[38;5;241;43m.\u001B[39;49m\u001B[43mshape\u001B[49m\u001B[38;5;241;43m.\u001B[39;49m\u001B[43massert_is_compatible_with\u001B[49m\u001B[43m(\u001B[49m\u001B[43moutput\u001B[49m\u001B[38;5;241;43m.\u001B[39;49m\u001B[43mshape\u001B[49m\u001B[43m)\u001B[49m\n\u001B[0;32m   5121\u001B[0m \u001B[38;5;66;03m# Use logits whenever they are available. `softmax` and `sigmoid`\u001B[39;00m\n\u001B[0;32m   5122\u001B[0m \u001B[38;5;66;03m# activations cache logits on the `output` Tensor.\u001B[39;00m\n\u001B[0;32m   5123\u001B[0m \u001B[38;5;28;01mif\u001B[39;00m \u001B[38;5;28mhasattr\u001B[39m(output, \u001B[38;5;124m'\u001B[39m\u001B[38;5;124m_keras_logits\u001B[39m\u001B[38;5;124m'\u001B[39m):\n",
      "\u001B[1;31mValueError\u001B[0m: Shapes (64, 16) and (64, 27) are incompatible"
     ]
    }
   ],
   "source": [
    "hybrid = model.fit(X_train.astype('float32'),\n",
    "                   y_train.astype('float32'),\n",
    "                   epochs = 100,\n",
    "                   batch_size = 64,\n",
    "                   shuffle = True,\n",
    "\n",
    "                   validation_data = (X_val.astype('float32'), y_val.astype('float32'))\n",
    "                   )"
   ],
   "metadata": {
    "collapsed": false,
    "pycharm": {
     "name": "#%%\n"
    }
   }
  },
  {
   "cell_type": "code",
   "execution_count": null,
   "outputs": [],
   "source": [],
   "metadata": {
    "collapsed": false,
    "pycharm": {
     "name": "#%%\n"
    }
   }
  }
 ],
 "metadata": {
  "kernelspec": {
   "display_name": "Python 3",
   "language": "python",
   "name": "python3"
  },
  "language_info": {
   "codemirror_mode": {
    "name": "ipython",
    "version": 2
   },
   "file_extension": ".py",
   "mimetype": "text/x-python",
   "name": "python",
   "nbconvert_exporter": "python",
   "pygments_lexer": "ipython2",
   "version": "2.7.6"
  }
 },
 "nbformat": 4,
 "nbformat_minor": 0
}