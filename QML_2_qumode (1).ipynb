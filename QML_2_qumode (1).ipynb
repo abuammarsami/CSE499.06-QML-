{
 "cells": [
  {
   "cell_type": "code",
   "execution_count": 4,
   "metadata": {
    "id": "3DvKGUw7mkDM",
    "pycharm": {
     "name": "#%%\n"
    }
   },
   "outputs": [],
   "source": [
    "import tensorflow as tf\n",
    "import tensorflow_datasets as tfds\n",
    "from tensorflow import keras\n",
    "from tensorflow.keras import layers\n",
    "\n",
    "import pennylane as qml\n",
    "import numpy as np\n",
    "\n",
    "import matplotlib.pyplot as plt"
   ]
  },
  {
   "cell_type": "markdown",
   "metadata": {
    "id": "jnI4ku4Pmsw4",
    "pycharm": {
     "name": "#%% md\n"
    }
   },
   "source": [
    "#Loading data"
   ]
  },
  {
   "cell_type": "code",
   "execution_count": 5,
   "metadata": {
    "colab": {
     "base_uri": "https://localhost:8080/"
    },
    "id": "BJPOfUgWmqVH",
    "outputId": "52c1db43-85a2-4341-c4a3-4c85ae11a9f5",
    "pycharm": {
     "name": "#%%\n"
    }
   },
   "outputs": [
    {
     "name": "stdout",
     "output_type": "stream",
     "text": [
      "Downloading data from https://storage.googleapis.com/tensorflow/tf-keras-datasets/mnist.npz\n",
      "11490434/11490434 [==============================] - 2s 0us/step\n"
     ]
    }
   ],
   "source": [
    "mnist = keras.datasets.mnist\n",
    "\n",
    "# datasets are numpy.ndarrays\n",
    "(X_train, Y_train), (X_test, Y_test) = mnist.load_data()     \n",
    "\n",
    "# normalize the pixels from 0 ~ 225 to 0 ~ 1 \n",
    "X_train, X_test = X_train / 255.0, X_test / 255.0"
   ]
  },
  {
   "cell_type": "markdown",
   "metadata": {
    "id": "F9UTvjSong-h",
    "pycharm": {
     "name": "#%% md\n"
    }
   },
   "source": [
    "One hot encoding the labels. We want the labels to be of length cutoff_dim^(num_modes), hence pad with 6 zeros."
   ]
  },
  {
   "cell_type": "code",
   "execution_count": 6,
   "metadata": {
    "id": "7Iwfgs20nEz9",
    "pycharm": {
     "name": "#%%\n"
    }
   },
   "outputs": [],
   "source": [
    "def one_hot(labels):  \n",
    "       \n",
    "    depth =  4**2                       # 10 classes + 6 zeros for padding\n",
    "    indices = labels.astype(np.int32)    \n",
    "    one_hot_labels = np.eye(depth)[indices].astype(np.float32) \n",
    "    \n",
    "    return one_hot_labels\n",
    "\n",
    "# one-hot encoded labels, each label of length cutoff dimension**2\n",
    "y_train, y_test = one_hot(Y_train), one_hot(Y_test)\n",
    "\n",
    "# using only 600 samples for training in this experiment\n",
    "n_samples = 600\n",
    "test_samples = 100\n",
    "X_train, X_test, y_train, y_test = X_train[:n_samples], X_test[:test_samples], y_train[:n_samples], y_test[:test_samples]"
   ]
  },
  {
   "cell_type": "code",
   "execution_count": 7,
   "metadata": {
    "id": "nKU7Zpwo5w4g",
    "pycharm": {
     "name": "#%%\n"
    }
   },
   "outputs": [],
   "source": [
    "X_train = X_train.astype('float32')\n",
    "X_test = X_test.astype('float32')"
   ]
  },
  {
   "cell_type": "code",
   "execution_count": 8,
   "metadata": {
    "colab": {
     "base_uri": "https://localhost:8080/"
    },
    "id": "4YHcQMbx7BOu",
    "outputId": "64cb67e6-42a2-4a0d-c1bd-d36b12e71c65",
    "pycharm": {
     "name": "#%%\n"
    }
   },
   "outputs": [
    {
     "data": {
      "text/plain": "dtype('float32')"
     },
     "execution_count": 8,
     "metadata": {},
     "output_type": "execute_result"
    }
   ],
   "source": [
    "X_test.dtype"
   ]
  },
  {
   "cell_type": "code",
   "execution_count": 9,
   "metadata": {
    "colab": {
     "base_uri": "https://localhost:8080/"
    },
    "id": "zlXI_4zC6F7D",
    "outputId": "741d1025-237a-479f-fb29-8c403194dd72",
    "pycharm": {
     "name": "#%%\n"
    }
   },
   "outputs": [
    {
     "data": {
      "text/plain": "dtype('float32')"
     },
     "execution_count": 9,
     "metadata": {},
     "output_type": "execute_result"
    }
   ],
   "source": [
    "y_train.dtype"
   ]
  },
  {
   "cell_type": "markdown",
   "metadata": {
    "id": "KNiParpXoa1Q",
    "pycharm": {
     "name": "#%% md\n"
    }
   },
   "source": [
    "#1. Classical circuit"
   ]
  },
  {
   "cell_type": "markdown",
   "metadata": {
    "id": "UXIK1vm-ofel",
    "pycharm": {
     "name": "#%% md\n"
    }
   },
   "source": [
    "Define classical layers using Keras Sequential. Take in 28x28 image matrices, flatten, and output vectors of length 14. 3 hidden layers with ELU activation."
   ]
  },
  {
   "cell_type": "code",
   "execution_count": 10,
   "metadata": {
    "colab": {
     "base_uri": "https://localhost:8080/"
    },
    "id": "4SbwyhW2ngL-",
    "outputId": "48a62014-9e6e-4414-b22a-e55f02f66a25",
    "pycharm": {
     "name": "#%%\n"
    }
   },
   "outputs": [
    {
     "name": "stdout",
     "output_type": "stream",
     "text": [
      "Model: \"sequential\"\n",
      "_________________________________________________________________\n",
      " Layer (type)                Output Shape              Param #   \n",
      "=================================================================\n",
      " flatten (Flatten)           (None, 784)               0         \n",
      "                                                                 \n",
      " dense (Dense)               (None, 128)               100480    \n",
      "                                                                 \n",
      " dense_1 (Dense)             (None, 64)                8256      \n",
      "                                                                 \n",
      " dense_2 (Dense)             (None, 32)                2080      \n",
      "                                                                 \n",
      " dense_3 (Dense)             (None, 14)                462       \n",
      "                                                                 \n",
      "=================================================================\n",
      "Total params: 111,278\n",
      "Trainable params: 111,278\n",
      "Non-trainable params: 0\n",
      "_________________________________________________________________\n"
     ]
    }
   ],
   "source": [
    "keras.backend.set_floatx('float64')\n",
    "\n",
    "model = keras.models.Sequential([\n",
    "                                 layers.Flatten(input_shape = (28,28)),\n",
    "                                 layers.Dense(128, activation =\"elu\"),\n",
    "                                 layers.Dense(64, activation =\"elu\"),\n",
    "                                 layers.Dense(32, activation =\"elu\"),\n",
    "                                 layers.Dense(14, activation =\"elu\") \n",
    "                                ])\n",
    "\n",
    "# More than a million parameters for the classical circuit\n",
    "model.summary()"
   ]
  },
  {
   "cell_type": "markdown",
   "metadata": {
    "id": "bn9VU1pNokLM",
    "pycharm": {
     "name": "#%% md\n"
    }
   },
   "source": [
    "2. Data encoding circuit"
   ]
  },
  {
   "cell_type": "markdown",
   "metadata": {
    "id": "oF4vK2Cko2X6",
    "pycharm": {
     "name": "#%% md\n"
    }
   },
   "source": [
    "Covert the output vectors from the classical circuit into quantum states by using the entries of the vectors as parameters of continous variable gates."
   ]
  },
  {
   "cell_type": "code",
   "execution_count": 11,
   "metadata": {
    "id": "bI9zo8VHohpf",
    "pycharm": {
     "name": "#%%\n"
    }
   },
   "outputs": [],
   "source": [
    "def data_encoding(x):\n",
    "    qml.Squeezing(x[3], x[4], wires=0)\n",
    "    qml.Squeezing(x[9], x[10], wires=1)\n",
    "    \n",
    "    qml.Beamsplitter(x[5], x[6], wires=[0,1])\n",
    "    \n",
    "    qml.Rotation(x[7], wires=0)\n",
    "    qml.Rotation(x[8], wires=1)\n",
    "    \n",
    "    qml.Displacement(x[1], x[2], wires=0)\n",
    "    qml.Displacement(x[11], x[12], wires=1)\n",
    "    \n",
    "    qml.Kerr(x[0], wires=0)\n",
    "    qml.Kerr(x[13], wires=1)\n"
   ]
  },
  {
   "cell_type": "markdown",
   "metadata": {
    "id": "v6DYd30tpB4n",
    "pycharm": {
     "name": "#%% md\n"
    }
   },
   "source": [
    "#3. Quantum neural network circuit"
   ]
  },
  {
   "cell_type": "code",
   "execution_count": 12,
   "metadata": {
    "id": "4PY4zDnJpAI1",
    "pycharm": {
     "name": "#%%\n"
    }
   },
   "outputs": [],
   "source": [
    "def qnn_layer(v):\n",
    "    # Interferometer 1\n",
    "    qml.Beamsplitter(v[0], v[1], wires=[0,1])\n",
    "    qml.Rotation(v[2], wires=0)\n",
    "    qml.Rotation(v[3], wires=1)\n",
    "    \n",
    "    # Squeezers\n",
    "    qml.Squeezing(v[4], 0.0, wires=0)\n",
    "    qml.Squeezing(v[5], 0.0, wires=1)\n",
    "    \n",
    "    # Interferometer 2\n",
    "    qml.Beamsplitter(v[6], v[7], wires=[0,1])\n",
    "    qml.Rotation(v[8], wires=0)\n",
    "    qml.Rotation(v[9], wires=1)\n",
    "    \n",
    "    # Bias addition\n",
    "    qml.Displacement(v[10], 0.0, wires=0)\n",
    "    qml.Displacement(v[11], 0.0, wires=1)\n",
    "    \n",
    "    # Non-linear activation function\n",
    "    qml.Kerr(v[12], wires=0)\n",
    "    qml.Kerr(v[13], wires=1)"
   ]
  },
  {
   "cell_type": "markdown",
   "metadata": {
    "id": "UO0hZCa0pGUq",
    "pycharm": {
     "name": "#%% md\n"
    }
   },
   "source": [
    "#4. Initialize parameters"
   ]
  },
  {
   "cell_type": "code",
   "execution_count": 13,
   "metadata": {
    "id": "vNK0VOP-pEpf",
    "pycharm": {
     "name": "#%%\n"
    }
   },
   "outputs": [],
   "source": [
    "def init_weights(layers, modes, active_sd=0.0001, passive_sd=0.1):\n",
    "    \n",
    "    # Number of interferometer parameters: beamsplitter + 2 rotations\n",
    "    M = 2 + 1 + 1  \n",
    "\n",
    "    int1_weights = tf.random.normal(shape=[layers, M], stddev=passive_sd)\n",
    "    s_weights = tf.random.normal(shape=[layers, modes], stddev=active_sd)\n",
    "    int2_weights = tf.random.normal(shape=[layers, M], stddev=passive_sd)\n",
    "    dr_weights = tf.random.normal(shape=[layers, modes], stddev=active_sd)\n",
    "    k_weights = tf.random.normal(shape=[layers, modes], stddev=active_sd)\n",
    "\n",
    "    weights = tf.concat([int1_weights, s_weights, int2_weights, dr_weights, k_weights], axis=1)\n",
    "    weights = tf.Variable(weights)\n",
    "\n",
    "    return weights"
   ]
  },
  {
   "cell_type": "markdown",
   "metadata": {
    "id": "vftJ56FnpL80",
    "pycharm": {
     "name": "#%% md\n"
    }
   },
   "source": [
    "5. Quantum device"
   ]
  },
  {
   "cell_type": "code",
   "execution_count": 14,
   "metadata": {
    "id": "EMEMo4QvpJet",
    "pycharm": {
     "name": "#%%\n"
    }
   },
   "outputs": [],
   "source": [
    "num_modes = 2\n",
    "cutoff_dim = 4\n",
    "\n",
    "# select a devide \n",
    "dev = qml.device('strawberryfields.fock', wires=num_modes, cutoff_dim=cutoff_dim) \n",
    "\n",
    "@qml.qnode(dev, interface=\"tf\")\n",
    "def quantum_nn(inputs, var):\n",
    "    # Encode input x into quantum state\n",
    "    data_encoding(inputs)\n",
    "\n",
    "    # iterative quantum layers\n",
    "    for v in var:\n",
    "        qnn_layer(v)\n",
    "\n",
    "    return qml.probs(wires=[0, 1])"
   ]
  },
  {
   "cell_type": "markdown",
   "metadata": {
    "id": "pgF2ML9JusuO",
    "pycharm": {
     "name": "#%% md\n"
    }
   },
   "source": [
    "6. Hybrid circuit"
   ]
  },
  {
   "cell_type": "code",
   "execution_count": 15,
   "metadata": {
    "id": "g953VsOrpNtm",
    "pycharm": {
     "name": "#%%\n"
    }
   },
   "outputs": [],
   "source": [
    "num_layers = 4\n",
    "\n",
    "# initialize weights for quantum layers\n",
    "weigths = init_weights(num_layers, num_modes)\n",
    "\n",
    "# convert the quantum layer to a Keras layer\n",
    "shape_tup = weigths.shape\n",
    "weight_shapes = {'var': shape_tup}\n",
    "qlayer = qml.qnn.KerasLayer(quantum_nn, weight_shapes, output_dim=4)\n",
    "\n",
    "# add to the classical sequential model\n",
    "model.add(qlayer)"
   ]
  },
  {
   "cell_type": "markdown",
   "metadata": {
    "id": "r7Gc9t_bu0U4",
    "pycharm": {
     "name": "#%% md\n"
    }
   },
   "source": [
    "7. Loss function and optimizer"
   ]
  },
  {
   "cell_type": "code",
   "execution_count": 16,
   "metadata": {
    "colab": {
     "base_uri": "https://localhost:8080/"
    },
    "id": "NUx6FOXZuxpo",
    "outputId": "a8a6bf8e-1548-48ce-ef8a-d5989776feeb",
    "pycharm": {
     "name": "#%%\n"
    }
   },
   "outputs": [
    {
     "name": "stderr",
     "output_type": "stream",
     "text": [
      "E:\\git_repo_asus\\CSE499.06(QML)\\venv\\lib\\site-packages\\keras\\optimizers\\optimizer_v2\\gradient_descent.py:108: UserWarning: The `lr` argument is deprecated, use `learning_rate` instead.\n"
     ]
    }
   ],
   "source": [
    "opt = keras.optimizers.SGD(lr = 0.02)\n",
    "model.compile(opt, loss = 'categorical_crossentropy', metrics =['accuracy'])"
   ]
  },
  {
   "cell_type": "markdown",
   "metadata": {
    "id": "IIkUyfe-u5Ck",
    "pycharm": {
     "name": "#%% md\n"
    }
   },
   "source": [
    "8. Training"
   ]
  },
  {
   "cell_type": "code",
   "execution_count": null,
   "metadata": {
    "colab": {
     "background_save": true,
     "base_uri": "https://localhost:8080/"
    },
    "id": "6L5fBkMEu2JP",
    "outputId": "94289182-7e18-476a-aed5-a94a1a53f838",
    "pycharm": {
     "name": "#%%\n",
     "is_executing": true
    }
   },
   "outputs": [
    {
     "name": "stdout",
     "output_type": "stream",
     "text": [
      "10/10 [==============================] - 236s 23s/step - loss: 1.2011 - accuracy: 0.7517 - val_loss: 1.4444 - val_accuracy: 0.5300\n",
      "Epoch 28/150\n",
      "10/10 [==============================] - 239s 24s/step - loss: 1.1631 - accuracy: 0.7683 - val_loss: 1.4478 - val_accuracy: 0.6000\n",
      "Epoch 29/150\n",
      "10/10 [==============================] - 248s 25s/step - loss: 1.1803 - accuracy: 0.7483 - val_loss: 1.4620 - val_accuracy: 0.6000\n",
      "Epoch 30/150\n",
      "10/10 [==============================] - 359s 37s/step - loss: 1.1521 - accuracy: 0.7767 - val_loss: 1.5139 - val_accuracy: 0.5400\n",
      "Epoch 31/150\n",
      "10/10 [==============================] - 256s 25s/step - loss: 1.1542 - accuracy: 0.7733 - val_loss: 1.4868 - val_accuracy: 0.5500\n",
      "Epoch 32/150\n",
      "10/10 [==============================] - 272s 27s/step - loss: 1.1246 - accuracy: 0.7883 - val_loss: 1.4660 - val_accuracy: 0.5300\n",
      "Epoch 33/150\n",
      "10/10 [==============================] - 268s 27s/step - loss: 1.1205 - accuracy: 0.7750 - val_loss: 1.4978 - val_accuracy: 0.5900\n",
      "Epoch 34/150\n",
      "10/10 [==============================] - 289s 29s/step - loss: 1.1414 - accuracy: 0.7850 - val_loss: 1.4301 - val_accuracy: 0.6100\n",
      "Epoch 35/150\n",
      " 4/10 [===========>..................] - ETA: 3:07 - loss: 1.0833 - accuracy: 0.7930"
     ]
    }
   ],
   "source": [
    "hybrid = model.fit(X_train.astype('float32'), \n",
    "                   y_train.astype('float32'),\n",
    "                   epochs = 150,\n",
    "                   batch_size = 64,\n",
    "                   shuffle = True, \n",
    "                   validation_data = (X_test.astype('float32'), y_test.astype('float32')))"
   ]
  },
  {
   "cell_type": "markdown",
   "metadata": {
    "id": "QML9sJctu_SO",
    "pycharm": {
     "name": "#%% md\n"
    }
   },
   "source": [
    "9. Loss and accuracy graphs"
   ]
  },
  {
   "cell_type": "code",
   "execution_count": null,
   "metadata": {
    "id": "d2E3Du5pu6Zn",
    "pycharm": {
     "name": "#%%\n",
     "is_executing": true
    }
   },
   "outputs": [],
   "source": [
    "# ===================================================================================\n",
    "#                                  Loss History Plot\n",
    "# ===================================================================================\n",
    "\n",
    "plt.title('model loss')\n",
    "plt.plot(hybrid.history['loss'])\n",
    "plt.ylabel('loss')\n",
    "plt.show()"
   ]
  },
  {
   "cell_type": "code",
   "execution_count": null,
   "metadata": {
    "id": "Rm2_XCnrvBx_",
    "pycharm": {
     "name": "#%%\n",
     "is_executing": true
    }
   },
   "outputs": [],
   "source": [
    "# ===================================================================================\n",
    "#                                Accuracy History Plot\n",
    "# ===================================================================================\n",
    "\n",
    "plt.title('model accuracy')\n",
    "plt.plot(hybrid.history['accuracy'])\n",
    "plt.ylabel('accuracy')\n",
    "plt.show()"
   ]
  },
  {
   "cell_type": "code",
   "execution_count": null,
   "metadata": {
    "id": "cQrmXm4WvDUH",
    "pycharm": {
     "name": "#%%\n"
    }
   },
   "outputs": [],
   "source": []
  }
 ],
 "metadata": {
  "colab": {
   "collapsed_sections": [],
   "name": "QML_2_qumode.ipynb",
   "provenance": []
  },
  "kernelspec": {
   "display_name": "Python 3",
   "name": "python3"
  },
  "language_info": {
   "name": "python"
  }
 },
 "nbformat": 4,
 "nbformat_minor": 0
}